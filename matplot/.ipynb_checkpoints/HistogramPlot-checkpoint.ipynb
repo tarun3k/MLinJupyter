{
 "cells": [
  {
   "cell_type": "code",
   "execution_count": 1,
   "metadata": {},
   "outputs": [],
   "source": [
    "import numpy as np\n",
    "import matplotlib.pyplot as pt"
   ]
  },
  {
   "cell_type": "code",
   "execution_count": 2,
   "metadata": {},
   "outputs": [
    {
     "data": {
      "image/png": "[encoded data removed]",
      "text/plain": [
       "<Figure size 432x288 with 1 Axes>"
      ]
     },
     "metadata": {
      "needs_background": "light"
     },
     "output_type": "display_data"
    }
   ],
   "source": [
    "np.random.seed(0) #for not varying the random values so seed the random \n",
    "ages=np.random.randint(1,100,(1,50)).tolist() # array to list conversion\n",
    "bins=10\n",
    "ran=(1,100)\n",
    "pt.hist(ages,bins,ran,color='red',histtype='bar',rwidth=.8)\n",
    "pt.xlabel('ages')\n",
    "pt.ylabel('bins')\n",
    "pt.title('Histogram')\n",
    "pt.show()"
   ]
  }
 ],
 "metadata": {
  "kernelspec": {
   "display_name": "Python 3",
   "language": "python",
   "name": "python3"
  },
  "language_info": {
   "codemirror_mode": {
    "name": "ipython",
    "version": 3
   },
   "file_extension": ".py",
   "mimetype": "text/x-python",
   "name": "python",
   "nbconvert_exporter": "python",
   "pygments_lexer": "ipython3",
   "version": "3.6.8"
  }
 },
 "nbformat": 4,
 "nbformat_minor": 2
}

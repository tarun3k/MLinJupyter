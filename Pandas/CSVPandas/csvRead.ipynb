{
 "cells": [
  {
   "cell_type": "code",
   "execution_count": 1,
   "metadata": {},
   "outputs": [],
   "source": [
    "import pandas as pd\n"
   ]
  },
  {
   "cell_type": "code",
   "execution_count": 8,
   "metadata": {},
   "outputs": [
    {
     "data": {
      "text/plain": [
       "0       Bulbasaur\n",
       "1         Ivysaur\n",
       "2        Venusaur\n",
       "3      Charmander\n",
       "4      Charmeleon\n",
       "5       Charizard\n",
       "6        Squirtle\n",
       "7       Wartortle\n",
       "8       Blastoise\n",
       "9        Caterpie\n",
       "10        Metapod\n",
       "11     Butterfree\n",
       "12         Weedle\n",
       "13         Kakuna\n",
       "14       Beedrill\n",
       "15         Pidgey\n",
       "16      Pidgeotto\n",
       "17        Pidgeot\n",
       "18        Rattata\n",
       "19       Raticate\n",
       "20        Spearow\n",
       "21         Fearow\n",
       "22          Ekans\n",
       "23          Arbok\n",
       "24        Pikachu\n",
       "25         Raichu\n",
       "26      Sandshrew\n",
       "27      Sandslash\n",
       "28        Nidoran\n",
       "29       Nidorina\n",
       "          ...    \n",
       "691     Clauncher\n",
       "692     Clawitzer\n",
       "693    Helioptile\n",
       "694     Heliolisk\n",
       "695        Tyrunt\n",
       "696     Tyrantrum\n",
       "697        Amaura\n",
       "698       Aurorus\n",
       "699       Sylveon\n",
       "700      Hawlucha\n",
       "701       Dedenne\n",
       "702       Carbink\n",
       "703         Goomy\n",
       "704       Sliggoo\n",
       "705        Goodra\n",
       "706        Klefki\n",
       "707      Phantump\n",
       "708     Trevenant\n",
       "709     Pumpkaboo\n",
       "710     Gourgeist\n",
       "711      Bergmite\n",
       "712       Avalugg\n",
       "713        Noibat\n",
       "714       Noivern\n",
       "715       Xerneas\n",
       "716       Yveltal\n",
       "717       Zygarde\n",
       "718       Diancie\n",
       "719         Hoopa\n",
       "720     Volcanion\n",
       "Name: Pokemon, Length: 721, dtype: object"
      ]
     },
     "execution_count": 8,
     "metadata": {},
     "output_type": "execute_result"
    }
   ],
   "source": [
    "Pk=pd.read_csv('pokemon.csv',squeeze=True,usecols=['Pokemon'])\n",
    "Pk"
   ]
  },
  {
   "cell_type": "code",
   "execution_count": 14,
   "metadata": {},
   "outputs": [
    {
     "data": {
      "text/plain": [
       "dtype('O')"
      ]
     },
     "execution_count": 14,
     "metadata": {},
     "output_type": "execute_result"
    }
   ],
   "source": [
    "Pk.dtype"
   ]
  },
  {
   "cell_type": "code",
   "execution_count": 15,
   "metadata": {},
   "outputs": [
    {
     "data": {
      "text/plain": [
       "True"
      ]
     },
     "execution_count": 15,
     "metadata": {},
     "output_type": "execute_result"
    }
   ],
   "source": [
    "Pk.is_unique"
   ]
  },
  {
   "cell_type": "code",
   "execution_count": 17,
   "metadata": {},
   "outputs": [
    {
     "data": {
      "text/plain": [
       "(721,)"
      ]
     },
     "execution_count": 17,
     "metadata": {},
     "output_type": "execute_result"
    }
   ],
   "source": [
    "Pk.shape"
   ]
  },
  {
   "cell_type": "code",
   "execution_count": 18,
   "metadata": {},
   "outputs": [
    {
     "data": {
      "text/plain": [
       "721"
      ]
     },
     "execution_count": 18,
     "metadata": {},
     "output_type": "execute_result"
    }
   ],
   "source": [
    "Pk.size"
   ]
  },
  {
   "cell_type": "code",
   "execution_count": 19,
   "metadata": {},
   "outputs": [
    {
     "data": {
      "text/plain": [
       "array(['Bulbasaur', 'Ivysaur', 'Venusaur', 'Charmander', 'Charmeleon',\n",
       "       'Charizard', 'Squirtle', 'Wartortle', 'Blastoise', 'Caterpie',\n",
       "       'Metapod', 'Butterfree', 'Weedle', 'Kakuna', 'Beedrill', 'Pidgey',\n",
       "       'Pidgeotto', 'Pidgeot', 'Rattata', 'Raticate', 'Spearow', 'Fearow',\n",
       "       'Ekans', 'Arbok', 'Pikachu', 'Raichu', 'Sandshrew', 'Sandslash',\n",
       "       'Nidoran', 'Nidorina', 'Nidoqueen', 'Nidoran♂', 'Nidorino',\n",
       "       'Nidoking', 'Clefairy', 'Clefable', 'Vulpix', 'Ninetales',\n",
       "       'Jigglypuff', 'Wigglytuff', 'Zubat', 'Golbat', 'Oddish', 'Gloom',\n",
       "       'Vileplume', 'Paras', 'Parasect', 'Venonat', 'Venomoth', 'Diglett',\n",
       "       'Dugtrio', 'Meowth', 'Persian', 'Psyduck', 'Golduck', 'Mankey',\n",
       "       'Primeape', 'Growlithe', 'Arcanine', 'Poliwag', 'Poliwhirl',\n",
       "       'Poliwrath', 'Abra', 'Kadabra', 'Alakazam', 'Machop', 'Machoke',\n",
       "       'Machamp', 'Bellsprout', 'Weepinbell', 'Victreebel', 'Tentacool',\n",
       "       'Tentacruel', 'Geodude', 'Graveler', 'Golem', 'Ponyta', 'Rapidash',\n",
       "       'Slowpoke', 'Slowbro', 'Magnemite', 'Magneton', \"Farfetch'd\",\n",
       "       'Doduo', 'Dodrio', 'Seel', 'Dewgong', 'Grimer', 'Muk', 'Shellder',\n",
       "       'Cloyster', 'Gastly', 'Haunter', 'Gengar', 'Onix', 'Drowzee',\n",
       "       'Hypno', 'Krabby', 'Kingler', 'Voltorb', 'Electrode', 'Exeggcute',\n",
       "       'Exeggutor', 'Cubone', 'Marowak', 'Hitmonlee', 'Hitmonchan',\n",
       "       'Lickitung', 'Koffing', 'Weezing', 'Rhyhorn', 'Rhydon', 'Chansey',\n",
       "       'Tangela', 'Kangaskhan', 'Horsea', 'Seadra', 'Goldeen', 'Seaking',\n",
       "       'Staryu', 'Starmie', 'Mr. Mime', 'Scyther', 'Jynx', 'Electabuzz',\n",
       "       'Magmar', 'Pinsir', 'Tauros', 'Magikarp', 'Gyarados', 'Lapras',\n",
       "       'Ditto', 'Eevee', 'Vaporeon', 'Jolteon', 'Flareon', 'Porygon',\n",
       "       'Omanyte', 'Omastar', 'Kabuto', 'Kabutops', 'Aerodactyl',\n",
       "       'Snorlax', 'Articuno', 'Zapdos', 'Moltres', 'Dratini', 'Dragonair',\n",
       "       'Dragonite', 'Mewtwo', 'Mew', 'Chikorita', 'Bayleef', 'Meganium',\n",
       "       'Cyndaquil', 'Quilava', 'Typhlosion', 'Totodile', 'Croconaw',\n",
       "       'Feraligatr', 'Sentret', 'Furret', 'Hoothoot', 'Noctowl', 'Ledyba',\n",
       "       'Ledian', 'Spinarak', 'Ariados', 'Crobat', 'Chinchou', 'Lanturn',\n",
       "       'Pichu', 'Cleffa', 'Igglybuff', 'Togepi', 'Togetic', 'Natu',\n",
       "       'Xatu', 'Mareep', 'Flaaffy', 'Ampharos', 'Bellossom', 'Marill',\n",
       "       'Azumarill', 'Sudowoodo', 'Politoed', 'Hoppip', 'Skiploom',\n",
       "       'Jumpluff', 'Aipom', 'Sunkern', 'Sunflora', 'Yanma', 'Wooper',\n",
       "       'Quagsire', 'Espeon', 'Umbreon', 'Murkrow', 'Slowking',\n",
       "       'Misdreavus', 'Unown', 'Wobbuffet', 'Girafarig', 'Pineco',\n",
       "       'Forretress', 'Dunsparce', 'Gligar', 'Steelix', 'Snubbull',\n",
       "       'Granbull', 'Qwilfish', 'Scizor', 'Shuckle', 'Heracross',\n",
       "       'Sneasel', 'Teddiursa', 'Ursaring', 'Slugma', 'Magcargo', 'Swinub',\n",
       "       'Piloswine', 'Corsola', 'Remoraid', 'Octillery', 'Delibird',\n",
       "       'Mantine', 'Skarmory', 'Houndour', 'Houndoom', 'Kingdra', 'Phanpy',\n",
       "       'Donphan', 'Porygon2', 'Stantler', 'Smeargle', 'Tyrogue',\n",
       "       'Hitmontop', 'Smoochum', 'Elekid', 'Magby', 'Miltank', 'Blissey',\n",
       "       'Raikou', 'Entei', 'Suicune', 'Larvitar', 'Pupitar', 'Tyranitar',\n",
       "       'Lugia', 'Ho-oh', 'Celebi', 'Treecko', 'Grovyle', 'Sceptile',\n",
       "       'Torchic', 'Combusken', 'Blaziken', 'Mudkip', 'Marshtomp',\n",
       "       'Swampert', 'Poochyena', 'Mightyena', 'Zigzagoon', 'Linoone',\n",
       "       'Wurmple', 'Silcoon', 'Beautifly', 'Cascoon', 'Dustox', 'Lotad',\n",
       "       'Lombre', 'Ludicolo', 'Seedot', 'Nuzleaf', 'Shiftry', 'Taillow',\n",
       "       'Swellow', 'Wingull', 'Pelipper', 'Ralts', 'Kirlia', 'Gardevoir',\n",
       "       'Surskit', 'Masquerain', 'Shroomish', 'Breloom', 'Slakoth',\n",
       "       'Vigoroth', 'Slaking', 'Nincada', 'Ninjask', 'Shedinja', 'Whismur',\n",
       "       'Loudred', 'Exploud', 'Makuhita', 'Hariyama', 'Azurill',\n",
       "       'Nosepass', 'Skitty', 'Delcatty', 'Sableye', 'Mawile', 'Aron',\n",
       "       'Lairon', 'Aggron', 'Meditite', 'Medicham', 'Electrike',\n",
       "       'Manectric', 'Plusle', 'Minun', 'Volbeat', 'Illumise', 'Roselia',\n",
       "       'Gulpin', 'Swalot', 'Carvanha', 'Sharpedo', 'Wailmer', 'Wailord',\n",
       "       'Numel', 'Camerupt', 'Torkoal', 'Spoink', 'Grumpig', 'Spinda',\n",
       "       'Trapinch', 'Vibrava', 'Flygon', 'Cacnea', 'Cacturne', 'Swablu',\n",
       "       'Altaria', 'Zangoose', 'Seviper', 'Lunatone', 'Solrock',\n",
       "       'Barboach', 'Whiscash', 'Corphish', 'Crawdaunt', 'Baltoy',\n",
       "       'Claydol', 'Lileep', 'Cradily', 'Anorith', 'Armaldo', 'Feebas',\n",
       "       'Milotic', 'Castform', 'Kecleon', 'Shuppet', 'Banette', 'Duskull',\n",
       "       'Dusclops', 'Tropius', 'Chimecho', 'Absol', 'Wynaut', 'Snorunt',\n",
       "       'Glalie', 'Spheal', 'Sealeo', 'Walrein', 'Clamperl', 'Huntail',\n",
       "       'Gorebyss', 'Relicanth', 'Luvdisc', 'Bagon', 'Shelgon',\n",
       "       'Salamence', 'Beldum', 'Metang', 'Metagross', 'Regirock', 'Regice',\n",
       "       'Registeel', 'Latias', 'Latios', 'Kyogre', 'Groudon', 'Rayquaza',\n",
       "       'Jirachi', 'Deoxys', 'Turtwig', 'Grotle', 'Torterra', 'Chimchar',\n",
       "       'Monferno', 'Infernape', 'Piplup', 'Prinplup', 'Empoleon',\n",
       "       'Starly', 'Staravia', 'Staraptor', 'Bidoof', 'Bibarel',\n",
       "       'Kricketot', 'Kricketune', 'Shinx', 'Luxio', 'Luxray', 'Budew',\n",
       "       'Roserade', 'Cranidos', 'Rampardos', 'Shieldon', 'Bastiodon',\n",
       "       'Burmy', 'Wormadam', 'Mothim', 'Combee', 'Vespiquen', 'Pachirisu',\n",
       "       'Buizel', 'Floatzel', 'Cherubi', 'Cherrim', 'Shellos', 'Gastrodon',\n",
       "       'Ambipom', 'Drifloon', 'Drifblim', 'Buneary', 'Lopunny',\n",
       "       'Mismagius', 'Honchkrow', 'Glameow', 'Purugly', 'Chingling',\n",
       "       'Stunky', 'Skuntank', 'Bronzor', 'Bronzong', 'Bonsly', 'Mime Jr.',\n",
       "       'Happiny', 'Chatot', 'Spiritomb', 'Gible', 'Gabite', 'Garchomp',\n",
       "       'Munchlax', 'Riolu', 'Lucario', 'Hippopotas', 'Hippowdon',\n",
       "       'Skorupi', 'Drapion', 'Croagunk', 'Toxicroak', 'Carnivine',\n",
       "       'Finneon', 'Lumineon', 'Mantyke', 'Snover', 'Abomasnow', 'Weavile',\n",
       "       'Magnezone', 'Lickilicky', 'Rhyperior', 'Tangrowth', 'Electivire',\n",
       "       'Magmortar', 'Togekiss', 'Yanmega', 'Leafeon', 'Glaceon',\n",
       "       'Gliscor', 'Mamoswine', 'Porygon-Z', 'Gallade', 'Probopass',\n",
       "       'Dusknoir', 'Froslass', 'Rotom', 'Uxie', 'Mesprit', 'Azelf',\n",
       "       'Dialga', 'Palkia', 'Heatran', 'Regigigas', 'Giratina',\n",
       "       'Cresselia', 'Phione', 'Manaphy', 'Darkrai', 'Shaymin', 'Arceus',\n",
       "       'Victini', 'Snivy', 'Servine', 'Serperior', 'Tepig', 'Pignite',\n",
       "       'Emboar', 'Oshawott', 'Dewott', 'Samurott', 'Patrat', 'Watchog',\n",
       "       'Lillipup', 'Herdier', 'Stoutland', 'Purrloin', 'Liepard',\n",
       "       'Pansage', 'Simisage', 'Pansear', 'Simisear', 'Panpour',\n",
       "       'Simipour', 'Munna', 'Musharna', 'Pidove', 'Tranquill', 'Unfezant',\n",
       "       'Blitzle', 'Zebstrika', 'Roggenrola', 'Boldore', 'Gigalith',\n",
       "       'Woobat', 'Swoobat', 'Drilbur', 'Excadrill', 'Audino', 'Timburr',\n",
       "       'Gurdurr', 'Conkeldurr', 'Tympole', 'Palpitoad', 'Seismitoad',\n",
       "       'Throh', 'Sawk', 'Sewaddle', 'Swadloon', 'Leavanny', 'Venipede',\n",
       "       'Whirlipede', 'Scolipede', 'Cottonee', 'Whimsicott', 'Petilil',\n",
       "       'Lilligant', 'Basculin', 'Sandile', 'Krokorok', 'Krookodile',\n",
       "       'Darumaka', 'Darmanitan', 'Maractus', 'Dwebble', 'Crustle',\n",
       "       'Scraggy', 'Scrafty', 'Sigilyph', 'Yamask', 'Cofagrigus',\n",
       "       'Tirtouga', 'Carracosta', 'Archen', 'Archeops', 'Trubbish',\n",
       "       'Garbodor', 'Zorua', 'Zoroark', 'Minccino', 'Cinccino', 'Gothita',\n",
       "       'Gothorita', 'Gothitelle', 'Solosis', 'Duosion', 'Reuniclus',\n",
       "       'Ducklett', 'Swanna', 'Vanillite', 'Vanillish', 'Vanilluxe',\n",
       "       'Deerling', 'Sawsbuck', 'Emolga', 'Karrablast', 'Escavalier',\n",
       "       'Foongus', 'Amoonguss', 'Frillish', 'Jellicent', 'Alomomola',\n",
       "       'Joltik', 'Galvantula', 'Ferroseed', 'Ferrothorn', 'Klink',\n",
       "       'Klang', 'Klinklang', 'Tynamo', 'Eelektrik', 'Eelektross',\n",
       "       'Elgyem', 'Beheeyem', 'Litwick', 'Lampent', 'Chandelure', 'Axew',\n",
       "       'Fraxure', 'Haxorus', 'Cubchoo', 'Beartic', 'Cryogonal', 'Shelmet',\n",
       "       'Accelgor', 'Stunfisk', 'Mienfoo', 'Mienshao', 'Druddigon',\n",
       "       'Golett', 'Golurk', 'Pawniard', 'Bisharp', 'Bouffalant', 'Rufflet',\n",
       "       'Braviary', 'Vullaby', 'Mandibuzz', 'Heatmor', 'Durant', 'Deino',\n",
       "       'Zweilous', 'Hydreigon', 'Larvesta', 'Volcarona', 'Cobalion',\n",
       "       'Terrakion', 'Virizion', 'Tornadus', 'Thundurus', 'Reshiram',\n",
       "       'Zekrom', 'Landorus', 'Kyurem', 'Keldeo', 'Meloetta', 'Genesect',\n",
       "       'Chespin', 'Quilladin', 'Chesnaught', 'Fennekin', 'Braixen',\n",
       "       'Delphox', 'Froakie', 'Frogadier', 'Greninja', 'Bunnelby',\n",
       "       'Diggersby', 'Fletchling', 'Fletchinder', 'Talonflame',\n",
       "       'Scatterbug', 'Spewpa', 'Vivillon', 'Litleo', 'Pyroar', 'Flabébé',\n",
       "       'Floette', 'Florges', 'Skiddo', 'Gogoat', 'Pancham', 'Pangoro',\n",
       "       'Furfrou', 'Espurr', 'Meowstic', 'Honedge', 'Doublade',\n",
       "       'Aegislash', 'Spritzee', 'Aromatisse', 'Swirlix', 'Slurpuff',\n",
       "       'Inkay', 'Malamar', 'Binacle', 'Barbaracle', 'Skrelp', 'Dragalge',\n",
       "       'Clauncher', 'Clawitzer', 'Helioptile', 'Heliolisk', 'Tyrunt',\n",
       "       'Tyrantrum', 'Amaura', 'Aurorus', 'Sylveon', 'Hawlucha', 'Dedenne',\n",
       "       'Carbink', 'Goomy', 'Sliggoo', 'Goodra', 'Klefki', 'Phantump',\n",
       "       'Trevenant', 'Pumpkaboo', 'Gourgeist', 'Bergmite', 'Avalugg',\n",
       "       'Noibat', 'Noivern', 'Xerneas', 'Yveltal', 'Zygarde', 'Diancie',\n",
       "       'Hoopa', 'Volcanion'], dtype=object)"
      ]
     },
     "execution_count": 19,
     "metadata": {},
     "output_type": "execute_result"
    }
   ],
   "source": [
    "Pk.values"
   ]
  },
  {
   "cell_type": "code",
   "execution_count": 20,
   "metadata": {},
   "outputs": [
    {
     "data": {
      "text/plain": [
       "'Pokemon'"
      ]
     },
     "execution_count": 20,
     "metadata": {},
     "output_type": "execute_result"
    }
   ],
   "source": [
    "Pk.name"
   ]
  },
  {
   "cell_type": "code",
   "execution_count": 21,
   "metadata": {},
   "outputs": [
    {
     "data": {
      "text/plain": [
       "0     Bulbasaur\n",
       "1       Ivysaur\n",
       "2      Venusaur\n",
       "3    Charmander\n",
       "4    Charmeleon\n",
       "Name: Pokemon_name, dtype: object"
      ]
     },
     "execution_count": 21,
     "metadata": {},
     "output_type": "execute_result"
    }
   ],
   "source": [
    "Pk.name='Pokemon_name'\n",
    "Pk.head()"
   ]
  },
  {
   "cell_type": "code",
   "execution_count": 22,
   "metadata": {},
   "outputs": [
    {
     "data": {
      "text/plain": [
       "713       Noibat\n",
       "714      Noivern\n",
       "715      Xerneas\n",
       "716      Yveltal\n",
       "717      Zygarde\n",
       "718      Diancie\n",
       "719        Hoopa\n",
       "720    Volcanion\n",
       "Name: Pokemon_name, dtype: object"
      ]
     },
     "execution_count": 22,
     "metadata": {},
     "output_type": "execute_result"
    }
   ],
   "source": [
    "Pk.tail(8)"
   ]
  }
 ],
 "metadata": {
  "kernelspec": {
   "display_name": "Python 3",
   "language": "python",
   "name": "python3"
  },
  "language_info": {
   "codemirror_mode": {
    "name": "ipython",
    "version": 3
   },
   "file_extension": ".py",
   "mimetype": "text/x-python",
   "name": "python",
   "nbconvert_exporter": "python",
   "pygments_lexer": "ipython3",
   "version": "3.6.8"
  }
 },
 "nbformat": 4,
 "nbformat_minor": 2
}

{
 "cells": [
  {
   "cell_type": "code",
   "execution_count": 1,
   "metadata": {},
   "outputs": [
    {
     "name": "stdout",
     "output_type": "stream",
     "text": [
      "tarunKumar\n"
     ]
    }
   ],
   "source": [
    "string1= \"tarun\"\n",
    "string2=\"Kumar\"\n",
    "print(string1+string2)"
   ]
  },
  {
   "cell_type": "code",
   "execution_count": 3,
   "metadata": {},
   "outputs": [
    {
     "name": "stdout",
     "output_type": "stream",
     "text": [
      "tarun Kumar\n"
     ]
    }
   ],
   "source": [
    "name=string1+\" \"+string2\n",
    "print(name)"
   ]
  },
  {
   "cell_type": "code",
   "execution_count": 5,
   "metadata": {},
   "outputs": [
    {
     "name": "stdout",
     "output_type": "stream",
     "text": [
      "tarun Kumar, hey tarun is there.\n"
     ]
    }
   ],
   "source": [
    "name='{} {}, hey tarun is there.'.format(string1,string2)\n",
    "print(name)"
   ]
  },
  {
   "cell_type": "code",
   "execution_count": 7,
   "metadata": {},
   "outputs": [
    {
     "name": "stdout",
     "output_type": "stream",
     "text": [
      "tarun Kumar, hey tarun is there\n"
     ]
    }
   ],
   "source": [
    "name=f'{string1} {string2}, hey tarun is there'\n",
    "print(name)"
   ]
  },
  {
   "cell_type": "code",
   "execution_count": 13,
   "metadata": {},
   "outputs": [
    {
     "name": "stdout",
     "output_type": "stream",
     "text": [
      "31\n",
      "31\n",
      "TARUN KUMAR, HEY TARUN IS THERE\n",
      "tarun kumar, hey tarun is there\n"
     ]
    }
   ],
   "source": [
    "print(name.__len__()) #for calculationg length f strings\n",
    "print(len(name))\n",
    "#conversion of lower to upper or vise versa\n",
    "print(name.upper())\n",
    "print(name.lower())"
   ]
  }
 ],
 "metadata": {
  "kernelspec": {
   "display_name": "Python 3",
   "language": "python",
   "name": "python3"
  },
  "language_info": {
   "codemirror_mode": {
    "name": "ipython",
    "version": 3
   },
   "file_extension": ".py",
   "mimetype": "text/x-python",
   "name": "python",
   "nbconvert_exporter": "python",
   "pygments_lexer": "ipython3",
   "version": "3.6.8"
  }
 },
 "nbformat": 4,
 "nbformat_minor": 2
}

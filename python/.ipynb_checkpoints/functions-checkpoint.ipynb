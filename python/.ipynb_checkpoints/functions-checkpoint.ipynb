{
 "cells": [
  {
   "cell_type": "code",
   "execution_count": 8,
   "metadata": {},
   "outputs": [
    {
     "name": "stdout",
     "output_type": "stream",
     "text": [
      "[0, 1, 1, 2, 3, 5, 8, 13, 21, 34, 55, 89, 144, 233, 377, 610, 987, 1597, 2584]\n"
     ]
    }
   ],
   "source": [
    "def fib(n):\n",
    "    result=[]\n",
    "    i=1;\n",
    "    a,b=0,1\n",
    "    while  i<n:\n",
    "        i+=1\n",
    "        result+=[a]\n",
    "        a,b=b,a+b\n",
    "        \n",
    "    return result\n",
    "fib20=fib(20)\n",
    "print(fib20)\n"
   ]
  },
  {
   "cell_type": "code",
   "execution_count": 3,
   "metadata": {},
   "outputs": [
    {
     "name": "stdout",
     "output_type": "stream",
     "text": [
      "What is your y or n:l\n",
      "try again!\n",
      "What is your y or n:l\n",
      "try again!\n",
      "What is your y or n:l\n",
      "try again!\n",
      "What is your y or n:l\n",
      "try again!\n",
      "What is your y or n:l\n"
     ]
    },
    {
     "ename": "ValueError",
     "evalue": "invalid user response",
     "output_type": "error",
     "traceback": [
      "\u001b[0;31m---------------------------------------------------------------------------\u001b[0m",
      "\u001b[0;31mValueError\u001b[0m                                Traceback (most recent call last)",
      "\u001b[0;32m<ipython-input-3-6bd8b3281bb2>\u001b[0m in \u001b[0;36m<module>\u001b[0;34m\u001b[0m\n\u001b[1;32m     11\u001b[0m         \u001b[0mprint\u001b[0m\u001b[0;34m(\u001b[0m\u001b[0mmessage\u001b[0m\u001b[0;34m)\u001b[0m\u001b[0;34m\u001b[0m\u001b[0;34m\u001b[0m\u001b[0m\n\u001b[1;32m     12\u001b[0m \u001b[0;34m\u001b[0m\u001b[0m\n\u001b[0;32m---> 13\u001b[0;31m \u001b[0m_ask\u001b[0m\u001b[0;34m(\u001b[0m\u001b[0;34m\"What is your y or n:\"\u001b[0m\u001b[0;34m)\u001b[0m\u001b[0;34m\u001b[0m\u001b[0;34m\u001b[0m\u001b[0m\n\u001b[0m",
      "\u001b[0;32m<ipython-input-3-6bd8b3281bb2>\u001b[0m in \u001b[0;36m_ask\u001b[0;34m(prompt, reminder, message)\u001b[0m\n\u001b[1;32m      8\u001b[0m         \u001b[0mreminder\u001b[0m\u001b[0;34m=\u001b[0m\u001b[0mreminder\u001b[0m\u001b[0;34m-\u001b[0m\u001b[0;36m1\u001b[0m\u001b[0;34m\u001b[0m\u001b[0;34m\u001b[0m\u001b[0m\n\u001b[1;32m      9\u001b[0m         \u001b[0;32mif\u001b[0m \u001b[0mreminder\u001b[0m\u001b[0;34m<\u001b[0m\u001b[0;36m0\u001b[0m\u001b[0;34m:\u001b[0m\u001b[0;34m\u001b[0m\u001b[0;34m\u001b[0m\u001b[0m\n\u001b[0;32m---> 10\u001b[0;31m             \u001b[0;32mraise\u001b[0m \u001b[0mValueError\u001b[0m\u001b[0;34m(\u001b[0m\u001b[0;34m'invalid user response'\u001b[0m\u001b[0;34m)\u001b[0m\u001b[0;34m\u001b[0m\u001b[0;34m\u001b[0m\u001b[0m\n\u001b[0m\u001b[1;32m     11\u001b[0m         \u001b[0mprint\u001b[0m\u001b[0;34m(\u001b[0m\u001b[0mmessage\u001b[0m\u001b[0;34m)\u001b[0m\u001b[0;34m\u001b[0m\u001b[0;34m\u001b[0m\u001b[0m\n\u001b[1;32m     12\u001b[0m \u001b[0;34m\u001b[0m\u001b[0m\n",
      "\u001b[0;31mValueError\u001b[0m: invalid user response"
     ]
    }
   ],
   "source": [
    "def _ask(prompt,reminder=4,message='try again!'):\n",
    "    while True:\n",
    "        ok=input(prompt)\n",
    "        if ok in ('y','yes'):\n",
    "            return True\n",
    "        if ok in ('n','no'):\n",
    "            return False\n",
    "        reminder=reminder-1\n",
    "        if reminder<0:\n",
    "            raise ValueError('invalid user response')\n",
    "        print(message)\n",
    "        \n",
    "_ask(\"What is your y or n:\")"
   ]
  },
  {
   "cell_type": "code",
   "execution_count": 9,
   "metadata": {},
   "outputs": [
    {
     "name": "stdout",
     "output_type": "stream",
     "text": [
      "this i sfor documentation::\n",
      "    beyound your scope\n"
     ]
    }
   ],
   "source": [
    "def myfun():\n",
    "    \"\"\"this i sfor documentation::\n",
    "    beyound your scope\"\"\"\n",
    "    x='love is beyond love::'\n",
    "print(myfun.__doc__)"
   ]
  },
  {
   "cell_type": "code",
   "execution_count": 13,
   "metadata": {},
   "outputs": [
    {
     "name": "stdout",
     "output_type": "stream",
     "text": [
      "this is necessary argument:: 10\n",
      "this is list of arguents\n",
      "tarun   \n",
      "loves  \n",
      "tarun  \n",
      "name taru\n",
      "rollno 16103090\n"
     ]
    }
   ],
   "source": [
    "#this is for multiple arguments ...remember *args always befor **dic\n",
    "def tarun(basic,*args,**dic):\n",
    "    print('this is necessary argument:: '+basic)\n",
    "    \n",
    "    print('this is list of arguents')\n",
    "    for a in args:\n",
    "        print(a,' ')\n",
    "    for key in dic:\n",
    "        print(key,dic[key])\n",
    "tarun(\"10\",'tarun ','loves','tarun',name='taru',rollno=16103090)"
   ]
  }
 ],
 "metadata": {
  "kernelspec": {
   "display_name": "Python 3",
   "language": "python",
   "name": "python3"
  },
  "language_info": {
   "codemirror_mode": {
    "name": "ipython",
    "version": 3
   },
   "file_extension": ".py",
   "mimetype": "text/x-python",
   "name": "python",
   "nbconvert_exporter": "python",
   "pygments_lexer": "ipython3",
   "version": "3.6.8"
  }
 },
 "nbformat": 4,
 "nbformat_minor": 2
}

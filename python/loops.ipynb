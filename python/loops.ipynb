{
 "cells": [
  {
   "cell_type": "code",
   "execution_count": 2,
   "metadata": {},
   "outputs": [
    {
     "name": "stdout",
     "output_type": "stream",
     "text": [
      "1\n",
      "1\n",
      "2\n",
      "3\n",
      "5\n",
      "8\n",
      "13\n",
      "21\n",
      "34\n"
     ]
    }
   ],
   "source": [
    "a,b=0,1\n",
    "i=1\n",
    "while i<10:\n",
    "    a,b=b,a+b\n",
    "    print(a)\n",
    "    i+=1"
   ]
  },
  {
   "cell_type": "code",
   "execution_count": 4,
   "metadata": {},
   "outputs": [
    {
     "name": "stdout",
     "output_type": "stream",
     "text": [
      "1,1,2,3,5,8,13,21,34,"
     ]
    }
   ],
   "source": [
    "a,b=0,1\n",
    "i=1\n",
    "while i<10:\n",
    "    a,b=b,a+b\n",
    "    #avoid the new line\n",
    "    print(a,end=',')\n",
    "    i+=1"
   ]
  },
  {
   "cell_type": "code",
   "execution_count": 15,
   "metadata": {},
   "outputs": [
    {
     "name": "stdout",
     "output_type": "stream",
     "text": [
      "34 is greater than 30\n"
     ]
    }
   ],
   "source": [
    "#control flow statements in python\n",
    "if a<9:\n",
    "    print(f'{a} is less then 9')\n",
    "elif a<30 and a>9:\n",
    "    print(f'{a} is greater than 9 and less than 30')\n",
    "else:print(f'{a} is greater than 30')"
   ]
  },
  {
   "cell_type": "code",
   "execution_count": 17,
   "metadata": {},
   "outputs": [
    {
     "name": "stdout",
     "output_type": "stream",
     "text": [
      "tarun\n",
      "kumar\n",
      "kashyap\n",
      "threeke\n"
     ]
    }
   ],
   "source": [
    "#for loop in python\n",
    "words=['tarun','kumar','kashyap','threeke']\n",
    "for w in words:\n",
    "    print(w)"
   ]
  },
  {
   "cell_type": "code",
   "execution_count": 28,
   "metadata": {},
   "outputs": [
    {
     "name": "stdout",
     "output_type": "stream",
     "text": [
      "['tarun', 'kumar', 'kashyap', 'threeke']\n",
      "['threeke', 'kashyap', 'tarun', 'kumar', 'kashyap', 'threeke']\n"
     ]
    }
   ],
   "source": [
    "words=['tarun','kumar','kashyap','threeke']\n",
    "print(words)\n",
    "for w in words[:]: #slice copy while modifying inside a loop\n",
    "    if(len(w)>5):\n",
    "        words.insert(0,w)\n",
    "print(words)"
   ]
  },
  {
   "cell_type": "code",
   "execution_count": 32,
   "metadata": {},
   "outputs": [
    {
     "name": "stdout",
     "output_type": "stream",
     "text": [
      "2  is a prime\n",
      "3  is a prime\n",
      "4 = 2 * 2\n",
      "5  is a prime\n",
      "6 = 3 * 2\n",
      "7  is a prime\n",
      "8 = 4 * 2\n",
      "9 = 3 * 3\n"
     ]
    }
   ],
   "source": [
    "for n in range(2,10):\n",
    "    for x in range(2,n):\n",
    "        if n%x==0:\n",
    "            print(f'{n} = {n//x} * {x}')\n",
    "            break;\n",
    "    else:\n",
    "        print(n, ' is a prime')"
   ]
  },
  {
   "cell_type": "code",
   "execution_count": 34,
   "metadata": {},
   "outputs": [
    {
     "name": "stdout",
     "output_type": "stream",
     "text": [
      "9\n"
     ]
    }
   ],
   "source": [
    "\"\"\"this is a documentation string used for documentation purpose::\"\"\"\n",
    "print(n)"
   ]
  }
 ],
 "metadata": {
  "kernelspec": {
   "display_name": "Python 3",
   "language": "python",
   "name": "python3"
  },
  "language_info": {
   "codemirror_mode": {
    "name": "ipython",
    "version": 3
   },
   "file_extension": ".py",
   "mimetype": "text/x-python",
   "name": "python",
   "nbconvert_exporter": "python",
   "pygments_lexer": "ipython3",
   "version": "3.6.8"
  }
 },
 "nbformat": 4,
 "nbformat_minor": 2
}
